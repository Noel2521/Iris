{
 "cells": [
  {
   "cell_type": "code",
   "execution_count": 8,
   "metadata": {},
   "outputs": [
    {
     "name": "stdout",
     "output_type": "stream",
     "text": [
      "Final hidden weights:  [[ 7.16229211  5.02073794]\n",
      " [ 5.06373723 -0.47604572]]\n",
      "Final hidden bias:  [[-1.30430591  0.09110561]]\n",
      "Final output weights:  [[ 6.26881937]\n",
      " [-4.48123936]]\n",
      "Final output bias:  [[-1.79449182]]\n",
      "\n",
      "Output from Neural Network after 1000 epochs:  [[0.05737913]\n",
      " [0.92531745]\n",
      " [0.50051697]\n",
      " [0.50900509]]\n"
     ]
    }
   ],
   "source": [
    "import numpy as np\n",
    "\n",
    "#Sigmoid activation function and its derivatives \n",
    "def sigmoid(x):\n",
    "    return 1/(1 + np.exp(-x))\n",
    "\n",
    "def sigmoid_derivative(x):\n",
    "    return x*(1-x)\n",
    "\n",
    "#input dataset \n",
    "inputs = np.array([[0,0],\n",
    "                  [0,1],\n",
    "                  [1,0],\n",
    "                  [1,1]])\n",
    "\n",
    "expected_output =  np.array([[0],\n",
    "                            [1],\n",
    "                            [1],\n",
    "                            [0]])\n",
    "\n",
    "#inital parameters\n",
    "epochs = 10000\n",
    "lr = 0.1\n",
    "inputLayerNeurons, hiddenLayerNeurons, outputLayerNeurons = 2, 2, 1\n",
    "\n",
    "#Random weights and bias initalization \n",
    "hidden_weights = np.random.uniform(size=(inputLayerNeurons, hiddenLayerNeurons))\n",
    "hidden_bias = np.random.uniform(size = (1, hiddenLayerNeurons))\n",
    "output_weights = np.random.uniform(size = (hiddenLayerNeurons, outputLayerNeurons))\n",
    "output_bias = np.random.uniform(size = (1, outputLayerNeurons))\n",
    "\n",
    "#Training the algorithm \n",
    "for _ in range(epochs):\n",
    "    #Forwards propergation\n",
    "    hidden_layer_activation = np.dot(inputs, hidden_weights)\n",
    "    hidden_layer_activation += hidden_bias\n",
    "    hidden_layer_output = sigmoid(hidden_layer_activation)\n",
    "\n",
    "    output_layer_activation = np.dot(hidden_layer_output, output_weights)\n",
    "    output_layer_activation += output_bias\n",
    "    predicted_output = sigmoid(output_layer_activation)\n",
    "\n",
    "    #Back propergation\n",
    "    error = expected_output - predicted_output \n",
    "    d_predicted_output = error * sigmoid_derivative(predicted_output)\n",
    "\n",
    "    error_hidden_layer = d_predicted_output.dot(output_weights.T)\n",
    "    d_hidden_layer = error_hidden_layer * sigmoid_derivative(hidden_layer_output)\n",
    "\n",
    "    #updating the Weights and Biases \n",
    "    output_weights += hidden_layer_output.T.dot(d_predicted_output) * lr\n",
    "    output_bias += np.sum(d_predicted_output, axis=0, keepdims=True) * lr\n",
    "    hidden_weights += inputs.T.dot(d_hidden_layer) * lr\n",
    "    hidden_bias += np.sum(d_hidden_layer, axis=0, keepdims=True) * lr\n",
    "\n",
    "#Print the final weights and predicted outputs\n",
    "print(\"Final hidden weights: \", hidden_weights)\n",
    "print(\"Final hidden bias: \", hidden_bias)\n",
    "print(\"Final output weights: \", output_weights)\n",
    "print(\"Final output bias: \", output_bias)\n",
    "print(\"\\nOutput from Neural Network after 1000 epochs: \", predicted_output)"
   ]
  },
  {
   "cell_type": "code",
   "execution_count": null,
   "metadata": {},
   "outputs": [],
   "source": []
  }
 ],
 "metadata": {
  "kernelspec": {
   "display_name": "Python 3",
   "language": "python",
   "name": "python3"
  },
  "language_info": {
   "codemirror_mode": {
    "name": "ipython",
    "version": 3
   },
   "file_extension": ".py",
   "mimetype": "text/x-python",
   "name": "python",
   "nbconvert_exporter": "python",
   "pygments_lexer": "ipython3",
   "version": "3.11.5"
  }
 },
 "nbformat": 4,
 "nbformat_minor": 2
}
