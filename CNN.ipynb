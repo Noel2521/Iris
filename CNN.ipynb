{
 "cells": [
  {
   "cell_type": "markdown",
   "metadata": {},
   "source": [
    "### Convolutional Neural Networks (CNNs):\n",
    "CNNs are particularly effective for image processing and related tasks due to their ability to capture spatial hierarchies in data.\n",
    "\n",
    "### Key Components of CNNs:\n",
    "\n",
    "1. Convolutional Layers: These layers apply a set of filters to the input. Each filter detects features at different locations in the input. As you add more convolutional layers, the network can capture more complex patterns.\n",
    "\n",
    "2. Pooling Layers: Typically follow convolutional layers and are used to reduce the dimensionality of the data (downsampling). Max pooling and average pooling are the most common types.\n",
    "\n",
    "3. Fully Connected Layers: After several convolutional and pooling layers, the high-level reasoning in the neural network is done via fully connected layers. Neurons in a fully connected layer have connections to all activations in the previous layer.\n",
    "\n",
    "Hands-on Exercise - Building a Simple CNN with Keras:\n",
    "Here, we’ll create a CNN to classify images from the CIFAR-10 dataset, which consists of 60,000 32x32 color images in 10 classes."
   ]
  },
  {
   "cell_type": "code",
   "execution_count": 3,
   "metadata": {},
   "outputs": [
    {
     "name": "stdout",
     "output_type": "stream",
     "text": [
      "Epoch 1/10\n",
      "WARNING:tensorflow:From c:\\Users\\User\\AppData\\Local\\Programs\\Python\\Python311\\Lib\\site-packages\\keras\\src\\utils\\tf_utils.py:492: The name tf.ragged.RaggedTensorValue is deprecated. Please use tf.compat.v1.ragged.RaggedTensorValue instead.\n",
      "\n",
      "WARNING:tensorflow:From c:\\Users\\User\\AppData\\Local\\Programs\\Python\\Python311\\Lib\\site-packages\\keras\\src\\engine\\base_layer_utils.py:384: The name tf.executing_eagerly_outside_functions is deprecated. Please use tf.compat.v1.executing_eagerly_outside_functions instead.\n",
      "\n",
      "704/704 [==============================] - 97s 120ms/step - loss: 1.5933 - accuracy: 0.4146 - val_loss: 1.3549 - val_accuracy: 0.5200\n",
      "Epoch 2/10\n",
      "704/704 [==============================] - 94s 134ms/step - loss: 1.2656 - accuracy: 0.5468 - val_loss: 1.2084 - val_accuracy: 0.5654\n",
      "Epoch 3/10\n",
      "704/704 [==============================] - 99s 140ms/step - loss: 1.1146 - accuracy: 0.6042 - val_loss: 1.0689 - val_accuracy: 0.6208\n",
      "Epoch 4/10\n",
      "704/704 [==============================] - 70s 100ms/step - loss: 1.0110 - accuracy: 0.6431 - val_loss: 0.9898 - val_accuracy: 0.6600\n",
      "Epoch 5/10\n",
      "704/704 [==============================] - 86s 122ms/step - loss: 0.9253 - accuracy: 0.6744 - val_loss: 0.9032 - val_accuracy: 0.6854\n",
      "Epoch 6/10\n",
      "704/704 [==============================] - 89s 126ms/step - loss: 0.8605 - accuracy: 0.6982 - val_loss: 0.9188 - val_accuracy: 0.6870\n",
      "Epoch 7/10\n",
      "704/704 [==============================] - 88s 125ms/step - loss: 0.8045 - accuracy: 0.7169 - val_loss: 0.8610 - val_accuracy: 0.7054\n",
      "Epoch 8/10\n",
      "704/704 [==============================] - 93s 133ms/step - loss: 0.7514 - accuracy: 0.7363 - val_loss: 0.9474 - val_accuracy: 0.6776\n",
      "Epoch 9/10\n",
      "704/704 [==============================] - 89s 126ms/step - loss: 0.7185 - accuracy: 0.7484 - val_loss: 0.8360 - val_accuracy: 0.7096\n",
      "Epoch 10/10\n",
      "704/704 [==============================] - 73s 104ms/step - loss: 0.6723 - accuracy: 0.7630 - val_loss: 0.8118 - val_accuracy: 0.7222\n"
     ]
    },
    {
     "data": {
      "text/plain": [
       "<keras.src.callbacks.History at 0x29b2e0d9b10>"
      ]
     },
     "execution_count": 3,
     "metadata": {},
     "output_type": "execute_result"
    }
   ],
   "source": [
    "from tensorflow.keras.datasets import cifar10\n",
    "from tensorflow.keras.models import Sequential\n",
    "from tensorflow.keras.layers import Conv2D, MaxPooling2D, Flatten, Dense, Dropout\n",
    "from tensorflow.keras.utils import to_categorical\n",
    "\n",
    "#Load and preproess the data \n",
    "(X_train, y_train), (X_test, y_test) = cifar10.load_data()\n",
    "X_train, X_test = X_train / 255.0, X_test / 255.0 #Normalizing the data\n",
    "y_train, y_test = to_categorical(y_train), to_categorical(y_test)\n",
    "\n",
    "model = Sequential([\n",
    "    Conv2D(32, (3, 3), activation='relu', input_shape=(32, 32, 3)),\n",
    "    MaxPooling2D((2, 2)),\n",
    "    Conv2D(64, (3, 3), activation='relu'),\n",
    "    MaxPooling2D((2, 2)),\n",
    "    Conv2D(64, (3, 3), activation='relu'),\n",
    "    Flatten(),\n",
    "    Dense(64, activation='relu'),\n",
    "    Dense(10, activation='softmax')  # Ensure this matches the number of classes\n",
    "])\n",
    "\n",
    "#Compiling the model\n",
    "model.compile(optimizer='adam', loss='categorical_crossentropy', metrics=['accuracy'])\n",
    "\n",
    "# Train the model\n",
    "model.fit(X_train, y_train, epochs=10, batch_size=64, validation_split=0.1)"
   ]
  },
  {
   "cell_type": "code",
   "execution_count": null,
   "metadata": {},
   "outputs": [],
   "source": []
  },
  {
   "cell_type": "code",
   "execution_count": null,
   "metadata": {},
   "outputs": [],
   "source": []
  }
 ],
 "metadata": {
  "kernelspec": {
   "display_name": "Python 3",
   "language": "python",
   "name": "python3"
  },
  "language_info": {
   "codemirror_mode": {
    "name": "ipython",
    "version": 3
   },
   "file_extension": ".py",
   "mimetype": "text/x-python",
   "name": "python",
   "nbconvert_exporter": "python",
   "pygments_lexer": "ipython3",
   "version": "3.11.5"
  }
 },
 "nbformat": 4,
 "nbformat_minor": 2
}
